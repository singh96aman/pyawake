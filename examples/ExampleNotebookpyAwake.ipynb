{
 "cells": [
  {
   "cell_type": "markdown",
   "metadata": {},
   "source": [
    "# <font color=blue size=25em>PyAwake Tutorial</font>\n",
    "<hr style=\"border-top-width: 4px; border-top-color: #FFFF00;\">\n",
    "\n",
    "Accessing and Extracting the AWAKE CSV compressed database as well as visualizing the extracted datasets\n",
    "<br>\n",
    "https://gitlab.cern.ch/AWAKE/pyawake\n",
    "\n",
    "Author : Aman Singh Thakur, Spencer Jake Gessner"
   ]
  },
  {
   "cell_type": "markdown",
   "metadata": {},
   "source": [
    "## <font color=red>Searching Modules</font>"
   ]
  },
  {
   "cell_type": "code",
   "execution_count": null,
   "metadata": {},
   "outputs": [],
   "source": [
    "from pyawake.Searching import searching"
   ]
  },
  {
   "cell_type": "markdown",
   "metadata": {},
   "source": [
    "### Master Search Method\n",
    "<br/>\n",
    "This master search method is used to search the AWAKE CSV database in given timestamp range and load datasets in the form of dicts for futher visualization.\n",
    "<br/>\n",
    "<b>Input Parameter</b> • Dataset Keywords separated by space<br/>\n",
    "&emsp;&emsp;&emsp;&emsp;&emsp;&emsp;&emsp;&emsp;• Comment Keywords separated by space<br/>\n",
    "&emsp;&emsp;&emsp;&emsp;&emsp;&emsp;&emsp;&emsp;• Starting Timestamp<br/>\n",
    "&emsp;&emsp;&emsp;&emsp;&emsp;&emsp;&emsp;&emsp;• Ending Timestamp<br/>\n",
    "&emsp;&emsp;&emsp;&emsp;&emsp;&emsp;&emsp;&emsp;• Dataset Cuts<br/>\n",
    "<b>User Responses</b><br/>\n",
    "Enter which dataset to load (0,limit)&emsp;&emsp;Input the dataset with the image (eg : 1)<br/> \n",
    "Enter Which file to load (0,limit)&emsp;&emsp;Accepted : Single Value, CSV Value, Range Value (eg : 0-50)<br/>\n",
    "<b>Output</b><br/>\n",
    "Array of datasets(dicts)"
   ]
  },
  {
   "cell_type": "code",
   "execution_count": null,
   "metadata": {},
   "outputs": [],
   "source": [
    "dataset_cuts = \"/AwakeEventData/TT41.BCTF.412340/Acquisition/totalIntensityPreferred < 100.0,/AwakeEventData/TT41.BCTF.412340/Acquisition/totalIntensityPreferred > 1.0\"\n",
    "dataset_image = searching.search(\"bovwa 04 raw\", \"\", \"2018-05-12 00:00:00\", \"2018-05-12 23:59:59\", dataset_cuts)\n",
    "#/AwakeEventData/BOVWA.04TT41.CAM4/ExtractionImage/imageRawData 0-1218"
   ]
  },
  {
   "cell_type": "markdown",
   "metadata": {},
   "source": [
    "### Load specific columns\n",
    "<br/>\n",
    "This master search method is used to search the AWAKE CSV database in given timestamp range and load datasets in the form of 1-d array with dataset dependent attributes defined used in further manual analysis.  \n",
    "<br/>\n",
    "<b>Input Parameter</b> • Dataset Keywords separated by space<br/>\n",
    "&emsp;&emsp;&emsp;&emsp;&emsp;&emsp;&emsp;&emsp;• Comment Keywords separated by space<br/>\n",
    "&emsp;&emsp;&emsp;&emsp;&emsp;&emsp;&emsp;&emsp;• Starting Timestamp<br/>\n",
    "&emsp;&emsp;&emsp;&emsp;&emsp;&emsp;&emsp;&emsp;• Ending Timestamp<br/>\n",
    "&emsp;&emsp;&emsp;&emsp;&emsp;&emsp;&emsp;&emsp;• Dataset Cuts<br/>\n",
    "<b>User Responses</b><br/>\n",
    "Enter which dataset to load (0,limit)&emsp;&emsp;CSV Value of datasets (eg : 0,2,4,6) <br/>\n",
    "Enter Which file to load (0,limit)&emsp;&emsp;&emsp;&emsp;Accepted : Single Value, CSV Value, Range Value<br/>\n",
    "<b>Output</b><br/>\n",
    "2-D Array in the format : [Datetime, Datasets values, HDF Filename]"
   ]
  },
  {
   "cell_type": "code",
   "execution_count": null,
   "metadata": {},
   "outputs": [],
   "source": [
    "dataset_col = searching.load_column(\"xmpp streak\", \"\", \"2018-05-12 00:00:00\", \"2018-05-12 23:59:59\", \"\")"
   ]
  },
  {
   "cell_type": "markdown",
   "metadata": {},
   "source": [
    "## <font color=red>Visualizing Modules</font>"
   ]
  },
  {
   "cell_type": "code",
   "execution_count": null,
   "metadata": {},
   "outputs": [],
   "source": [
    "from pyawake.Visualizing import visualizing"
   ]
  },
  {
   "cell_type": "markdown",
   "metadata": {},
   "source": [
    "### Display Movie Method\n",
    "<br/>\n",
    "This method will automatically display movie using awake_analysis_tool features.\n",
    "<br/>\n",
    "<b>Input Parameter</b> Array of datasets in dicts"
   ]
  },
  {
   "cell_type": "code",
   "execution_count": null,
   "metadata": {},
   "outputs": [],
   "source": [
    "visualizing.displayMovie(dataset_image[190:215])"
   ]
  },
  {
   "cell_type": "markdown",
   "metadata": {},
   "source": [
    "### Visualize Multiple Images\n",
    "<br/>\n",
    "Visualization multiple images in sub-plots (Less than 10 images for faster results)\n",
    "<br/>\n",
    "<b>Input Parameter</b> • Dataset Keywords separated by space<br/>\n",
    "&emsp;&emsp;&emsp;&emsp;&emsp;&emsp;&emsp;&emsp;• Comment Keywords separated by space<br/>\n",
    "&emsp;&emsp;&emsp;&emsp;&emsp;&emsp;&emsp;&emsp;• Starting Timestamp<br/>\n",
    "&emsp;&emsp;&emsp;&emsp;&emsp;&emsp;&emsp;&emsp;• Ending Timestamp<br/>\n",
    "&emsp;&emsp;&emsp;&emsp;&emsp;&emsp;&emsp;&emsp;• Dataset Cuts<br/>\n",
    "<b>User Responses</b><br/>\n",
    "Enter which dataset to load (0,limit)&emsp;&emsp;CSV Value of datasets (eg : 0,2,4,6) <br/>\n",
    "Enter Which file to load (0,limit)&emsp;&emsp;&emsp;&emsp;Accepted : Single Value, CSV Value, Range Value<br/>\n",
    "<b>Output</b><br/>\n",
    "2-D Array in the format : [Datetime, Datasets values, HDF Filename]"
   ]
  },
  {
   "cell_type": "code",
   "execution_count": null,
   "metadata": {},
   "outputs": [],
   "source": [
    "visualizing.visualize_multiple_image(dataset_image[190:215])"
   ]
  },
  {
   "cell_type": "markdown",
   "metadata": {},
   "source": [
    "<img src=\"https://developers.google.com/open-source/gsoc/resources/downloads/GSoC-logo-horizontal-200.png\" alt=\"GSoC logo\">"
   ]
  }
 ],
 "metadata": {
  "kernelspec": {
   "display_name": "Python 3",
   "language": "python",
   "name": "python3"
  },
  "language_info": {
   "codemirror_mode": {
    "name": "ipython",
    "version": 3
   },
   "file_extension": ".py",
   "mimetype": "text/x-python",
   "name": "python",
   "nbconvert_exporter": "python",
   "pygments_lexer": "ipython3",
   "version": "3.7.3"
  }
 },
 "nbformat": 4,
 "nbformat_minor": 2
}
